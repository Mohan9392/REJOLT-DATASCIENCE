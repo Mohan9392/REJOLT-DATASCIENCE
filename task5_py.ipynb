{
  "cells": [
    {
      "cell_type": "markdown",
      "metadata": {
        "id": "view-in-github",
        "colab_type": "text"
      },
      "source": [
        "<a href=\"https://colab.research.google.com/github/Mohan9392/REJOLT-DATASCIENCE/blob/main/task5_py.ipynb\" target=\"_parent\"><img src=\"https://colab.research.google.com/assets/colab-badge.svg\" alt=\"Open In Colab\"/></a>"
      ]
    },
    {
      "cell_type": "code",
      "execution_count": null,
      "id": "9b6cbd23",
      "metadata": {
        "id": "9b6cbd23"
      },
      "outputs": [],
      "source": [
        "import pandas as pd \n",
        "import numpy as np\n",
        "import matplotlib.pyplot as plt\n",
        "import seaborn as sns\n"
      ]
    },
    {
      "cell_type": "code",
      "execution_count": null,
      "id": "5ce183b5",
      "metadata": {
        "id": "5ce183b5"
      },
      "outputs": [],
      "source": [
        "df=pd.read_csv('diabetes.csv')"
      ]
    },
    {
      "cell_type": "code",
      "execution_count": null,
      "id": "a54a9a96",
      "metadata": {
        "id": "a54a9a96",
        "outputId": "ab8a4f9c-1deb-42d9-8c98-ea1c4e06b630"
      },
      "outputs": [
        {
          "data": {
            "text/html": [
              "<div>\n",
              "<style scoped>\n",
              "    .dataframe tbody tr th:only-of-type {\n",
              "        vertical-align: middle;\n",
              "    }\n",
              "\n",
              "    .dataframe tbody tr th {\n",
              "        vertical-align: top;\n",
              "    }\n",
              "\n",
              "    .dataframe thead th {\n",
              "        text-align: right;\n",
              "    }\n",
              "</style>\n",
              "<table border=\"1\" class=\"dataframe\">\n",
              "  <thead>\n",
              "    <tr style=\"text-align: right;\">\n",
              "      <th></th>\n",
              "      <th>Pregnancies</th>\n",
              "      <th>Glucose</th>\n",
              "      <th>BloodPressure</th>\n",
              "      <th>SkinThickness</th>\n",
              "      <th>Insulin</th>\n",
              "      <th>BMI</th>\n",
              "      <th>DiabetesPedigreeFunction</th>\n",
              "      <th>Age</th>\n",
              "      <th>Outcome</th>\n",
              "    </tr>\n",
              "  </thead>\n",
              "  <tbody>\n",
              "    <tr>\n",
              "      <th>0</th>\n",
              "      <td>6</td>\n",
              "      <td>148</td>\n",
              "      <td>72</td>\n",
              "      <td>35</td>\n",
              "      <td>0</td>\n",
              "      <td>33.6</td>\n",
              "      <td>0.627</td>\n",
              "      <td>50</td>\n",
              "      <td>1</td>\n",
              "    </tr>\n",
              "    <tr>\n",
              "      <th>1</th>\n",
              "      <td>1</td>\n",
              "      <td>85</td>\n",
              "      <td>66</td>\n",
              "      <td>29</td>\n",
              "      <td>0</td>\n",
              "      <td>26.6</td>\n",
              "      <td>0.351</td>\n",
              "      <td>31</td>\n",
              "      <td>0</td>\n",
              "    </tr>\n",
              "    <tr>\n",
              "      <th>2</th>\n",
              "      <td>8</td>\n",
              "      <td>183</td>\n",
              "      <td>64</td>\n",
              "      <td>0</td>\n",
              "      <td>0</td>\n",
              "      <td>23.3</td>\n",
              "      <td>0.672</td>\n",
              "      <td>32</td>\n",
              "      <td>1</td>\n",
              "    </tr>\n",
              "    <tr>\n",
              "      <th>3</th>\n",
              "      <td>1</td>\n",
              "      <td>89</td>\n",
              "      <td>66</td>\n",
              "      <td>23</td>\n",
              "      <td>94</td>\n",
              "      <td>28.1</td>\n",
              "      <td>0.167</td>\n",
              "      <td>21</td>\n",
              "      <td>0</td>\n",
              "    </tr>\n",
              "    <tr>\n",
              "      <th>4</th>\n",
              "      <td>0</td>\n",
              "      <td>137</td>\n",
              "      <td>40</td>\n",
              "      <td>35</td>\n",
              "      <td>168</td>\n",
              "      <td>43.1</td>\n",
              "      <td>2.288</td>\n",
              "      <td>33</td>\n",
              "      <td>1</td>\n",
              "    </tr>\n",
              "    <tr>\n",
              "      <th>5</th>\n",
              "      <td>5</td>\n",
              "      <td>116</td>\n",
              "      <td>74</td>\n",
              "      <td>0</td>\n",
              "      <td>0</td>\n",
              "      <td>25.6</td>\n",
              "      <td>0.201</td>\n",
              "      <td>30</td>\n",
              "      <td>0</td>\n",
              "    </tr>\n",
              "    <tr>\n",
              "      <th>6</th>\n",
              "      <td>3</td>\n",
              "      <td>78</td>\n",
              "      <td>50</td>\n",
              "      <td>32</td>\n",
              "      <td>88</td>\n",
              "      <td>31.0</td>\n",
              "      <td>0.248</td>\n",
              "      <td>26</td>\n",
              "      <td>1</td>\n",
              "    </tr>\n",
              "    <tr>\n",
              "      <th>7</th>\n",
              "      <td>10</td>\n",
              "      <td>115</td>\n",
              "      <td>0</td>\n",
              "      <td>0</td>\n",
              "      <td>0</td>\n",
              "      <td>35.3</td>\n",
              "      <td>0.134</td>\n",
              "      <td>29</td>\n",
              "      <td>0</td>\n",
              "    </tr>\n",
              "  </tbody>\n",
              "</table>\n",
              "</div>"
            ],
            "text/plain": [
              "   Pregnancies  Glucose  BloodPressure  SkinThickness  Insulin   BMI  \\\n",
              "0            6      148             72             35        0  33.6   \n",
              "1            1       85             66             29        0  26.6   \n",
              "2            8      183             64              0        0  23.3   \n",
              "3            1       89             66             23       94  28.1   \n",
              "4            0      137             40             35      168  43.1   \n",
              "5            5      116             74              0        0  25.6   \n",
              "6            3       78             50             32       88  31.0   \n",
              "7           10      115              0              0        0  35.3   \n",
              "\n",
              "   DiabetesPedigreeFunction  Age  Outcome  \n",
              "0                     0.627   50        1  \n",
              "1                     0.351   31        0  \n",
              "2                     0.672   32        1  \n",
              "3                     0.167   21        0  \n",
              "4                     2.288   33        1  \n",
              "5                     0.201   30        0  \n",
              "6                     0.248   26        1  \n",
              "7                     0.134   29        0  "
            ]
          },
          "execution_count": 12,
          "metadata": {},
          "output_type": "execute_result"
        }
      ],
      "source": [
        "df.head(8)"
      ]
    },
    {
      "cell_type": "code",
      "execution_count": null,
      "id": "b8163c40",
      "metadata": {
        "id": "b8163c40",
        "outputId": "673acf6b-c485-4cac-88f1-803713ad5d37"
      },
      "outputs": [
        {
          "data": {
            "text/plain": [
              "Pregnancies                 0\n",
              "Glucose                     0\n",
              "BloodPressure               0\n",
              "SkinThickness               0\n",
              "Insulin                     0\n",
              "BMI                         0\n",
              "DiabetesPedigreeFunction    0\n",
              "Age                         0\n",
              "Outcome                     0\n",
              "dtype: int64"
            ]
          },
          "execution_count": 13,
          "metadata": {},
          "output_type": "execute_result"
        }
      ],
      "source": [
        "df.isnull().sum()"
      ]
    },
    {
      "cell_type": "code",
      "execution_count": null,
      "id": "1000d123",
      "metadata": {
        "id": "1000d123",
        "outputId": "257c7384-075b-4326-ec69-a7686c1442b5"
      },
      "outputs": [
        {
          "data": {
            "text/plain": [
              "(768, 9)"
            ]
          },
          "execution_count": 14,
          "metadata": {},
          "output_type": "execute_result"
        }
      ],
      "source": [
        "df.shape"
      ]
    },
    {
      "cell_type": "code",
      "execution_count": null,
      "id": "72bd5721",
      "metadata": {
        "id": "72bd5721"
      },
      "outputs": [],
      "source": [
        "df.dropna(inplace=True, axis=0)"
      ]
    },
    {
      "cell_type": "code",
      "execution_count": null,
      "id": "de239f1b",
      "metadata": {
        "id": "de239f1b",
        "outputId": "4a296162-cc59-465c-8a71-96cb4d390251"
      },
      "outputs": [
        {
          "data": {
            "text/plain": [
              "0"
            ]
          },
          "execution_count": 16,
          "metadata": {},
          "output_type": "execute_result"
        }
      ],
      "source": [
        "df.isnull().sum().sum()"
      ]
    },
    {
      "cell_type": "code",
      "execution_count": null,
      "id": "ec31f13e",
      "metadata": {
        "id": "ec31f13e",
        "outputId": "f185cdc2-2107-45cc-f0d9-4f3c8b34cc5a"
      },
      "outputs": [
        {
          "data": {
            "text/plain": [
              "array([50, 31, 32, 21, 33, 30, 26, 29, 53, 54, 34, 57, 59, 51, 27, 41, 43,\n",
              "       22, 38, 60, 28, 45, 35, 46, 56, 37, 48, 40, 25, 24, 58, 42, 44, 39,\n",
              "       36, 23, 61, 69, 62, 55, 65, 47, 52, 66, 49, 63, 67, 72, 81, 64, 70,\n",
              "       68], dtype=int64)"
            ]
          },
          "execution_count": 21,
          "metadata": {},
          "output_type": "execute_result"
        }
      ],
      "source": [
        "df['Age'].unique()"
      ]
    },
    {
      "cell_type": "code",
      "execution_count": null,
      "id": "b8452ff0",
      "metadata": {
        "id": "b8452ff0",
        "outputId": "272054f9-28db-42d9-8853-35fbf8352883"
      },
      "outputs": [
        {
          "data": {
            "text/plain": [
              "Age\n",
              "21    1752.5\n",
              "22    2124.7\n",
              "23    1197.1\n",
              "24    1498.2\n",
              "25    1533.3\n",
              "26    1152.2\n",
              "27    1022.4\n",
              "28    1177.5\n",
              "29     972.7\n",
              "30     630.7\n",
              "31     816.4\n",
              "32     517.1\n",
              "33     549.7\n",
              "34     436.3\n",
              "35     337.8\n",
              "36     507.5\n",
              "37     609.5\n",
              "38     569.1\n",
              "39     383.8\n",
              "40     436.0\n",
              "41     775.7\n",
              "42     629.7\n",
              "43     479.6\n",
              "44     273.3\n",
              "45     524.4\n",
              "46     448.8\n",
              "47     207.4\n",
              "48     149.9\n",
              "49     160.1\n",
              "50     249.8\n",
              "51     271.8\n",
              "52     267.8\n",
              "53     152.5\n",
              "54     184.8\n",
              "55     108.1\n",
              "56      95.1\n",
              "57     148.5\n",
              "58     227.0\n",
              "59      80.9\n",
              "60     143.7\n",
              "61      60.0\n",
              "62     115.8\n",
              "63     123.1\n",
              "64      25.0\n",
              "65      94.8\n",
              "66     121.5\n",
              "67      86.3\n",
              "68      35.6\n",
              "69      26.8\n",
              "70      32.5\n",
              "72      19.6\n",
              "81      25.9\n",
              "Name: BMI, dtype: float64"
            ]
          },
          "execution_count": 24,
          "metadata": {},
          "output_type": "execute_result"
        }
      ],
      "source": [
        "df.groupby('Age')['BMI'].sum()"
      ]
    },
    {
      "cell_type": "code",
      "execution_count": null,
      "id": "b05f8c1d",
      "metadata": {
        "id": "b05f8c1d",
        "outputId": "c5215b69-9953-4af5-afaa-122f7d23dfda"
      },
      "outputs": [
        {
          "data": {
            "image/png": "[encoded data removed]",
            "text/plain": [
              "<Figure size 1080x1080 with 1 Axes>"
            ]
          },
          "metadata": {
            "needs_background": "light"
          },
          "output_type": "display_data"
        }
      ],
      "source": [
        "plt.figure(figsize=(15,15))\n",
        "sns.barplot(x=df['Age'].unique(),y=df.groupby('Age')['BMI'].sum())\n",
        "plt.xticks(rotation='vertical')\n",
        "plt.xlabel('Age')\n",
        "plt.title(\"Age vs total BMI\")\n",
        "plt.show()"
      ]
    },
    {
      "cell_type": "code",
      "execution_count": null,
      "id": "b8d35772",
      "metadata": {
        "id": "b8d35772",
        "outputId": "06a27827-4c58-46ab-c807-b1d8853eea2f"
      },
      "outputs": [
        {
          "data": {
            "text/plain": [
              "array([50, 31, 32, 21, 33, 30, 26, 29, 53, 54, 34, 57, 59, 51, 27, 41, 43,\n",
              "       22, 38, 60, 28, 45, 35, 46, 56, 37, 48, 40, 25, 24, 58, 42, 44, 39,\n",
              "       36, 23, 61, 69, 62, 55, 65, 47, 52, 66, 49, 63, 67, 72, 81, 64, 70,\n",
              "       68], dtype=int64)"
            ]
          },
          "execution_count": 33,
          "metadata": {},
          "output_type": "execute_result"
        }
      ],
      "source": [
        "df['Age'].unique()"
      ]
    },
    {
      "cell_type": "code",
      "execution_count": null,
      "id": "a17d1757",
      "metadata": {
        "id": "a17d1757",
        "outputId": "8db78563-c734-44bb-eabd-1a3d336281e2"
      },
      "outputs": [
        {
          "data": {
            "text/plain": [
              "Age\n",
              "21     68\n",
              "22    112\n",
              "23     60\n",
              "24     87\n",
              "25     85\n",
              "26     65\n",
              "27     82\n",
              "28    106\n",
              "29     96\n",
              "30     76\n",
              "31     93\n",
              "32     71\n",
              "33     69\n",
              "34     82\n",
              "35     50\n",
              "36     83\n",
              "37    100\n",
              "38    110\n",
              "39     89\n",
              "40     81\n",
              "41    143\n",
              "42    124\n",
              "43    101\n",
              "44     58\n",
              "45    110\n",
              "46     83\n",
              "47     50\n",
              "48     44\n",
              "49     38\n",
              "50     54\n",
              "51     69\n",
              "52     37\n",
              "53     27\n",
              "54     42\n",
              "55     22\n",
              "56     24\n",
              "57     44\n",
              "58     50\n",
              "59      7\n",
              "60     30\n",
              "61     11\n",
              "62     15\n",
              "63     22\n",
              "64      8\n",
              "65     10\n",
              "66     20\n",
              "67     12\n",
              "68      8\n",
              "69     10\n",
              "70      4\n",
              "72      2\n",
              "81      9\n",
              "Name: Pregnancies, dtype: int64"
            ]
          },
          "execution_count": 34,
          "metadata": {},
          "output_type": "execute_result"
        }
      ],
      "source": [
        "df.groupby('Age')['Pregnancies'].sum()"
      ]
    },
    {
      "cell_type": "code",
      "execution_count": null,
      "id": "a51de87c",
      "metadata": {
        "id": "a51de87c",
        "outputId": "6a738a92-6817-4a28-c4ca-83192d3aca09"
      },
      "outputs": [
        {
          "data": {
            "text/plain": [
              "Text(0, 0.5, 'Pregnancies')"
            ]
          },
          "execution_count": 40,
          "metadata": {},
          "output_type": "execute_result"
        },
        {
          "data": {
            "image/png": "[encoded data removed]",
            "text/plain": [
              "<Figure size 432x288 with 1 Axes>"
            ]
          },
          "metadata": {
            "needs_background": "light"
          },
          "output_type": "display_data"
        }
      ],
      "source": [
        "plt.plot(df['Age'].unique(),df.groupby('Age')['Pregnancies'].sum() )\n",
        "plt.xlabel('Age')\n",
        "plt.ylabel('Pregnancies')"
      ]
    },
    {
      "cell_type": "code",
      "execution_count": null,
      "id": "bcf146da",
      "metadata": {
        "id": "bcf146da",
        "outputId": "9e40f834-7c90-4f71-8522-a76e7779d2e8"
      },
      "outputs": [
        {
          "data": {
            "text/plain": [
              "array([1, 0], dtype=int64)"
            ]
          },
          "execution_count": 45,
          "metadata": {},
          "output_type": "execute_result"
        }
      ],
      "source": [
        "df['Outcome'].unique()"
      ]
    },
    {
      "cell_type": "code",
      "execution_count": null,
      "id": "de49c00c",
      "metadata": {
        "id": "de49c00c",
        "outputId": "e5d4e95b-0190-4ded-fd94-3cb26ec22d33"
      },
      "outputs": [
        {
          "data": {
            "text/plain": [
              "Outcome\n",
              "0    214.867\n",
              "1    147.534\n",
              "Name: DiabetesPedigreeFunction, dtype: float64"
            ]
          },
          "execution_count": 44,
          "metadata": {},
          "output_type": "execute_result"
        }
      ],
      "source": [
        "df.groupby('Outcome')['DiabetesPedigreeFunction'].sum()"
      ]
    },
    {
      "cell_type": "code",
      "execution_count": null,
      "id": "23cca198",
      "metadata": {
        "id": "23cca198",
        "outputId": "afbe2be3-087a-4a1a-ed25-cd34c96568e7"
      },
      "outputs": [
        {
          "data": {
            "image/png": "[encoded data removed]",
            "text/plain": [
              "<Figure size 432x288 with 1 Axes>"
            ]
          },
          "metadata": {},
          "output_type": "display_data"
        }
      ],
      "source": [
        "df.groupby('Outcome')['DiabetesPedigreeFunction'].sum().plot(kind='pie')\n",
        "plt.title('Age VS DiabetesPedigreeFunction')\n",
        "plt.show()"
      ]
    },
    {
      "cell_type": "code",
      "execution_count": null,
      "id": "a738cbb1",
      "metadata": {
        "id": "a738cbb1",
        "outputId": "0c5e8d21-0b99-41fe-b4f1-f295d3276412"
      },
      "outputs": [
        {
          "data": {
            "image/png": "[encoded data removed]",
            "text/plain": [
              "<Figure size 432x288 with 1 Axes>"
            ]
          },
          "metadata": {
            "needs_background": "light"
          },
          "output_type": "display_data"
        }
      ],
      "source": [
        "df.boxplot()\n",
        "plt.xticks(rotation=\"vertical\")\n",
        "plt.show()"
      ]
    },
    {
      "cell_type": "code",
      "execution_count": null,
      "id": "917af9ea",
      "metadata": {
        "id": "917af9ea",
        "outputId": "3bd5da99-9a36-4d95-bddf-7161e8ccde66"
      },
      "outputs": [
        {
          "data": {
            "image/png": "[encoded data removed]",
            "text/plain": [
              "<Figure size 432x288 with 1 Axes>"
            ]
          },
          "metadata": {
            "needs_background": "light"
          },
          "output_type": "display_data"
        }
      ],
      "source": [
        "plt.boxplot(df['BloodPressure'])\n",
        "plt.show()"
      ]
    },
    {
      "cell_type": "code",
      "execution_count": null,
      "id": "5171849d",
      "metadata": {
        "id": "5171849d"
      },
      "outputs": [],
      "source": []
    }
  ],
  "metadata": {
    "kernelspec": {
      "display_name": "Python 3",
      "language": "python",
      "name": "python3"
    },
    "language_info": {
      "codemirror_mode": {
        "name": "ipython",
        "version": 3
      },
      "file_extension": ".py",
      "mimetype": "text/x-python",
      "name": "python",
      "nbconvert_exporter": "python",
      "pygments_lexer": "ipython3",
      "version": "3.6.8"
    },
    "colab": {
      "provenance": [],
      "include_colab_link": true
    }
  },
  "nbformat": 4,
  "nbformat_minor": 5
}